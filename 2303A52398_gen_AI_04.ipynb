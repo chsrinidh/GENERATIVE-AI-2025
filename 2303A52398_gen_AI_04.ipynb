{
  "nbformat": 4,
  "nbformat_minor": 0,
  "metadata": {
    "colab": {
      "provenance": [],
      "include_colab_link": true
    },
    "kernelspec": {
      "name": "python3",
      "display_name": "Python 3"
    },
    "language_info": {
      "name": "python"
    }
  },
  "cells": [
    {
      "cell_type": "markdown",
      "metadata": {
        "id": "view-in-github",
        "colab_type": "text"
      },
      "source": [
        "<a href=\"https://colab.research.google.com/github/chsrinidh/GENERATIVE-AI-2025/blob/main/2303A52398_gen_AI_04.ipynb\" target=\"_parent\"><img src=\"https://colab.research.google.com/assets/colab-badge.svg\" alt=\"Open In Colab\"/></a>"
      ]
    },
    {
      "cell_type": "code",
      "execution_count": 1,
      "metadata": {
        "colab": {
          "base_uri": "https://localhost:8080/"
        },
        "id": "KVaNln38h3vs",
        "outputId": "b6e02c37-8502-4ad4-eb0a-57b7eded8b92"
      },
      "outputs": [
        {
          "output_type": "stream",
          "name": "stdout",
          "text": [
            "Epoch 0, Loss: 1.65649\n",
            "Epoch 100, Loss: 0.00504\n",
            "Epoch 200, Loss: 0.00266\n",
            "Epoch 300, Loss: 0.00222\n",
            "Epoch 400, Loss: 0.00185\n",
            "Epoch 500, Loss: 0.00155\n",
            "Epoch 600, Loss: 0.00129\n",
            "Epoch 700, Loss: 0.00108\n",
            "Epoch 800, Loss: 0.00090\n",
            "Epoch 900, Loss: 0.00076\n",
            "Training MSE: 0.00063\n",
            "Testing MSE: 0.00120\n",
            "Enter x1, x2, x3: 3,5 8\n",
            "Predicted Output: 2.74046\n"
          ]
        }
      ],
      "source": [
        "import numpy as np\n",
        "\n",
        "def train_ann(X_train, y_train, learning_rate=0.01, epochs=1000):\n",
        "\n",
        "    weights = np.random.rand(X_train.shape[1])\n",
        "    bias = np.random.rand()\n",
        "\n",
        "\n",
        "    for epoch in range(epochs):\n",
        "        y_pred = np.dot(X_train, weights) + bias\n",
        "        error = y_pred - y_train\n",
        "\n",
        "\n",
        "        dW = (2 / X_train.shape[0]) * np.dot(X_train.T, error)\n",
        "        dB = (2 / X_train.shape[0]) * np.sum(error)\n",
        "\n",
        "\n",
        "        weights -= learning_rate * dW\n",
        "        bias -= learning_rate * dB\n",
        "\n",
        "\n",
        "        if epoch % 100 == 0:\n",
        "            loss = np.mean(error ** 2)\n",
        "            print(f\"Epoch {epoch}, Loss: {loss:.5f}\")\n",
        "\n",
        "    return weights, bias\n",
        "\n",
        "def mean_square_error(X, y, weights, bias):\n",
        "    y_pred = np.dot(X, weights) + bias\n",
        "    return np.mean((y - y_pred) ** 2)\n",
        "\n",
        "def predict(X, weights, bias):\n",
        "    return np.dot(X, weights) + bias\n",
        "\n",
        "\n",
        "X_train = np.array([\n",
        "    [0.1, 0.2, 0.3],\n",
        "    [0.2, 0.3, 0.4],\n",
        "    [0.3, 0.4, 0.5],\n",
        "    [0.5, 0.6, 0.7],\n",
        "    [0.1, 0.3, 0.5],\n",
        "    [0.2, 0.4, 0.6],\n",
        "    [0.3, 0.5, 0.7],\n",
        "    [0.4, 0.6, 0.8],\n",
        "    [0.5, 0.7, 0.9]\n",
        "])\n",
        "y_train = np.array([0.14, 0.20, 0.26, 0.38, 0.22, 0.28, 0.34, 0.40, 0.46])\n",
        "\n",
        "weights, bias = train_ann(X_train, y_train)\n",
        "\n",
        "\n",
        "X_test = np.array([\n",
        "    [0.6, 0.7, 0.8],\n",
        "    [0.7, 0.8, 0.9]\n",
        "])\n",
        "y_test = np.array([0.44, 0.50])\n",
        "\n",
        "\n",
        "train_mse = mean_square_error(X_train, y_train, weights, bias)\n",
        "test_mse = mean_square_error(X_test, y_test, weights, bias)\n",
        "\n",
        "print(f\"Training MSE: {train_mse:.5f}\")\n",
        "print(f\"Testing MSE: {test_mse:.5f}\")\n",
        "\n",
        "\n",
        "x_input = np.array([float(x) for x in input(\"Enter x1, x2, x3: \").replace(',', ' ').split()]).reshape(1, -1)\n",
        "predicted_output = predict(x_input, weights, bias)\n",
        "print(f\"Predicted Output: {predicted_output[0]:.5f}\")\n"
      ]
    },
    {
      "cell_type": "code",
      "source": [
        "import numpy as np\n",
        "\n",
        "def sigmoid(x):\n",
        "    return 1 / (1 + np.exp(-x))\n",
        "\n",
        "def train_ann(X_train, y_train, learning_rate=0.01, epochs=1000):\n",
        "\n",
        "    weights = np.random.rand(X_train.shape[1])\n",
        "    bias = np.random.rand()\n",
        "\n",
        "\n",
        "    for epoch in range(epochs):\n",
        "        linear_output = np.dot(X_train, weights) + bias\n",
        "        y_pred = sigmoid(linear_output)\n",
        "        error = y_pred - y_train\n",
        "\n",
        "\n",
        "        dW = (2 / X_train.shape[0]) * np.dot(X_train.T, error * y_pred * (1 - y_pred))\n",
        "        dB = (2 / X_train.shape[0]) * np.sum(error * y_pred * (1 - y_pred))\n",
        "\n",
        "\n",
        "        weights -= learning_rate * dW\n",
        "        bias -= learning_rate * dB\n",
        "\n",
        "\n",
        "        if epoch % 100 == 0:\n",
        "            loss = np.mean(error ** 2)\n",
        "            print(f\"Epoch {epoch}, Loss: {loss:.5f}\")\n",
        "\n",
        "    return weights, bias\n",
        "\n",
        "def mean_square_error(X, y, weights, bias):\n",
        "    y_pred = sigmoid(np.dot(X, weights) + bias)\n",
        "    return np.mean((y - y_pred) ** 2)\n",
        "\n",
        "def predict(X, weights, bias):\n",
        "    return sigmoid(np.dot(X, weights) + bias)\n",
        "\n",
        "\n",
        "X_train = np.array([\n",
        "    [0.1, 0.2, 0.3],\n",
        "    [0.2, 0.3, 0.4],\n",
        "    [0.3, 0.4, 0.5],\n",
        "    [0.5, 0.6, 0.7],\n",
        "    [0.1, 0.3, 0.5],\n",
        "    [0.2, 0.4, 0.6],\n",
        "    [0.3, 0.5, 0.7],\n",
        "    [0.4, 0.6, 0.8],\n",
        "    [0.5, 0.7, 0.1]\n",
        "])\n",
        "y_train = np.array([0.5349, 0.5498, 0.5646, 0.5939, 0.5548, 0.5695, 0.5842, 0.5987, 0.5548])\n",
        "\n",
        "\n",
        "weights, bias = train_ann(X_train, y_train)\n",
        "\n",
        "\n",
        "X_test = np.array([\n",
        "    [0.6, 0.7, 0.8],\n",
        "    [0.7, 0.8, 0.9]\n",
        "])\n",
        "y_test = np.array([0.6083, 0.6225])\n",
        "\n",
        "\n",
        "train_mse = mean_square_error(X_train, y_train, weights, bias)\n",
        "test_mse = mean_square_error(X_test, y_test, weights, bias)\n",
        "\n",
        "print(f\"Training MSE: {train_mse:.5f}\")\n",
        "print(f\"Testing MSE: {test_mse:.5f}\")\n",
        "\n",
        "x_input = np.array([float(x) for x in input(\"Enter x1, x2, x3: \").replace(',', ' ').split()]).reshape(1, -1)\n",
        "predicted_output = predict(x_input, weights, bias)\n",
        "print(f\"Predicted Output: {predicted_output[0]:.5f}\")\n"
      ],
      "metadata": {
        "colab": {
          "base_uri": "https://localhost:8080/"
        },
        "id": "9PRRqo2BiNhZ",
        "outputId": "e1b98414-8006-4a1b-f02c-ce6d3575b947"
      },
      "execution_count": 2,
      "outputs": [
        {
          "output_type": "stream",
          "name": "stdout",
          "text": [
            "Epoch 0, Loss: 0.08758\n",
            "Epoch 100, Loss: 0.08034\n",
            "Epoch 200, Loss: 0.07269\n",
            "Epoch 300, Loss: 0.06475\n",
            "Epoch 400, Loss: 0.05665\n",
            "Epoch 500, Loss: 0.04862\n",
            "Epoch 600, Loss: 0.04086\n",
            "Epoch 700, Loss: 0.03361\n",
            "Epoch 800, Loss: 0.02706\n",
            "Epoch 900, Loss: 0.02133\n",
            "Training MSE: 0.01650\n",
            "Testing MSE: 0.03068\n",
            "Enter x1, x2, x3: 1 2 3\n",
            "Predicted Output: 0.95650\n"
          ]
        }
      ]
    }
  ]
}